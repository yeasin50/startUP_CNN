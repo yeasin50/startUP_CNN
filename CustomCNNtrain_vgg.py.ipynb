{
 "cells": [
  {
   "cell_type": "code",
   "execution_count": 1,
   "metadata": {},
   "outputs": [],
   "source": [
    "# import the necessary packages\n",
    "\n",
    "# from trainerCNN_SmallVGGNet import SmallVGGNet # custom\n",
    "#Instead of from keras.models import Sequential , this time we import SmallVGGNet\n",
    "\n",
    "from sklearn.preprocessing import LabelBinarizer\n",
    "from sklearn.model_selection import train_test_split\n",
    "from sklearn.metrics import classification_report\n",
    "\n",
    "from tensorflow.keras.preprocessing.image import ImageDataGenerator\n",
    "from tensorflow.keras.optimizers import SGD\n",
    "\n",
    "from imutils import paths\n",
    "import matplotlib.pyplot as plt\n",
    "import numpy as np\n",
    "from tqdm.notebook import tqdm\n",
    "import cv2, pickle, os, random"
   ]
  },
  {
   "cell_type": "code",
   "execution_count": 2,
   "metadata": {},
   "outputs": [
    {
     "data": {
      "application/vnd.jupyter.widget-view+json": {
       "model_id": "592235e0160447ac88c6c3bda3c7219b",
       "version_major": 2,
       "version_minor": 0
      },
      "text/plain": [
       "🔃 Images:   0%|          | 0/3000 [00:00<?, ?it/s]"
      ]
     },
     "metadata": {},
     "output_type": "display_data"
    }
   ],
   "source": [
    "data = []\n",
    "labels = []\n",
    "\n",
    "imagePaths = sorted(list(paths.list_images(r'animals/')))\n",
    "random.seed(42)\n",
    "random.shuffle(imagePaths)\n",
    "\n",
    "#progressBar\n",
    "pbar = tqdm(total=len(imagePaths), desc=\"🔃 Images: \")\n",
    "for imagePath in imagePaths:\n",
    "    image = cv2.resize(cv2.imread(imagePath), (64, 64)) #load and resize\n",
    "    data.append(image)\n",
    "    \n",
    "    label = imagePath.split(os.path.sep)[-2]\n",
    "    labels.append(label)\n",
    "    \n",
    "    pbar.update(1)\n",
    "pbar.close()"
   ]
  },
  {
   "cell_type": "code",
   "execution_count": 3,
   "metadata": {},
   "outputs": [],
   "source": [
    "#scale the raw pixel intensities range 0 to 1\n",
    "data = np.array(data, dtype = \"float\")/255.0\n",
    "labels = np.array(labels)"
   ]
  },
  {
   "cell_type": "code",
   "execution_count": 5,
   "metadata": {},
   "outputs": [],
   "source": [
    "labels = np.asarray(labels).reshape((-1 ,1))"
   ]
  },
  {
   "cell_type": "code",
   "execution_count": 6,
   "metadata": {},
   "outputs": [],
   "source": [
    "(trainX, testX, trainY, testY) = train_test_split(data, labels, test_size=0.25, random_state=42)"
   ]
  },
  {
   "cell_type": "code",
   "execution_count": 7,
   "metadata": {},
   "outputs": [],
   "source": [
    "# convert the labels from integers to vectors (for 2-class, binary\n",
    "# classification you should use Keras' to_categorical function\n",
    "# instead as the scikit-learn's LabelBinarizer will not return a\n",
    "# vector)\n",
    "lb = LabelBinarizer()\n",
    "trainY = lb.fit_transform(trainY)\n",
    "testY = lb.transform(testY)"
   ]
  },
  {
   "cell_type": "code",
   "execution_count": 8,
   "metadata": {},
   "outputs": [],
   "source": [
    "#image generator for data augmentation \n",
    "#Data augmentation is often a critical step to:\n",
    "    # -Avoiding overfitting , Ensuring your model generalizes well\n",
    "    \n",
    "aug = ImageDataGenerator(rotation_range=30, width_shift_range=0.1, \n",
    "                         height_shift_range=0.1, shear_range=0.2, zoom_range=0.2,\n",
    "                         horizontal_flip=True, fill_mode=\"nearest\")"
   ]
  },
  {
   "cell_type": "code",
   "execution_count": 9,
   "metadata": {},
   "outputs": [
    {
     "name": "stdout",
     "output_type": "stream",
     "text": [
      "(3000, 64, 64, 3)\n",
      "(3000, 1)\n"
     ]
    }
   ],
   "source": [
    "print(data.shape)\n",
    "print(labels.shape)"
   ]
  },
  {
   "cell_type": "code",
   "execution_count": 10,
   "metadata": {},
   "outputs": [],
   "source": [
    "# initialize our VGG-like Convolutional Neural Network\n",
    "from trainerCNN_SmallVGGNet import SmallVGGNet\n",
    "model = SmallVGGNet.build(width=64, height=64, channel=3, classes=len(lb.classes_))"
   ]
  },
  {
   "cell_type": "code",
   "execution_count": 13,
   "metadata": {},
   "outputs": [
    {
     "name": "stdout",
     "output_type": "stream",
     "text": [
      "🔃: init model and optimizer\n"
     ]
    }
   ],
   "source": [
    "initLR = 0.01\n",
    "EPOCHS = 10  # make it around 70\n",
    "BS = 32\n",
    "\n",
    "print(\"🔃: init model and optimizer\")\n",
    "opt = SGD(lr = initLR, decay= initLR / EPOCHS)\n",
    "model.compile(loss=\"categorical_crossentropy\", optimizer=opt, metrics=[\"accuracy\"])"
   ]
  },
  {
   "cell_type": "markdown",
   "metadata": {},
   "source": [
    "### <center>  Train the network"
   ]
  },
  {
   "cell_type": "code",
   "execution_count": 14,
   "metadata": {},
   "outputs": [
    {
     "name": "stdout",
     "output_type": "stream",
     "text": [
      "Epoch 1/10\n",
      "70/70 [==============================] - 34s 464ms/step - loss: 1.4699 - accuracy: 0.4861 - val_loss: 1.3838 - val_accuracy: 0.3693\n",
      "Epoch 2/10\n",
      "70/70 [==============================] - 34s 484ms/step - loss: 1.0300 - accuracy: 0.6005 - val_loss: 1.8689 - val_accuracy: 0.3107\n",
      "Epoch 3/10\n",
      "70/70 [==============================] - 32s 459ms/step - loss: 1.0283 - accuracy: 0.5743 - val_loss: 2.4170 - val_accuracy: 0.3173\n",
      "Epoch 4/10\n",
      "70/70 [==============================] - 33s 469ms/step - loss: 0.8948 - accuracy: 0.6047 - val_loss: 1.9862 - val_accuracy: 0.3293\n",
      "Epoch 5/10\n",
      "70/70 [==============================] - 33s 465ms/step - loss: 0.7762 - accuracy: 0.6351 - val_loss: 1.6595 - val_accuracy: 0.3547\n",
      "Epoch 6/10\n",
      "70/70 [==============================] - 33s 472ms/step - loss: 0.7426 - accuracy: 0.6620 - val_loss: 1.0975 - val_accuracy: 0.5000\n",
      "Epoch 7/10\n",
      "70/70 [==============================] - 32s 462ms/step - loss: 0.7785 - accuracy: 0.6374 - val_loss: 0.6732 - val_accuracy: 0.6840\n",
      "Epoch 8/10\n",
      "70/70 [==============================] - 34s 485ms/step - loss: 0.7070 - accuracy: 0.6792 - val_loss: 0.6829 - val_accuracy: 0.6893\n",
      "Epoch 9/10\n",
      "70/70 [==============================] - 34s 485ms/step - loss: 0.6915 - accuracy: 0.6747 - val_loss: 0.6390 - val_accuracy: 0.7080\n",
      "Epoch 10/10\n",
      "70/70 [==============================] - 33s 465ms/step - loss: 0.6596 - accuracy: 0.6747 - val_loss: 0.6587 - val_accuracy: 0.7173\n"
     ]
    }
   ],
   "source": [
    "# train the network\n",
    "H = model.fit(x=aug.flow(trainX, trainY, batch_size=BS),\n",
    "    validation_data=(testX, testY), steps_per_epoch=len(trainX) // BS,\n",
    "    epochs=EPOCHS)"
   ]
  },
  {
   "cell_type": "markdown",
   "metadata": {},
   "source": [
    " ### <center> evaluating network"
   ]
  },
  {
   "cell_type": "code",
   "execution_count": 15,
   "metadata": {},
   "outputs": [
    {
     "name": "stdout",
     "output_type": "stream",
     "text": [
      "               precision    recall  f1-score   support\n",
      "\n",
      " animals/cats       0.59      0.82      0.69       236\n",
      " animals/dogs       0.69      0.42      0.52       236\n",
      "animals/panda       0.88      0.88      0.88       278\n",
      "\n",
      "     accuracy                           0.72       750\n",
      "    macro avg       0.72      0.71      0.70       750\n",
      " weighted avg       0.73      0.72      0.71       750\n",
      "\n"
     ]
    }
   ],
   "source": [
    "predictions = model.predict(x=testX, batch_size=32)\n",
    "print(classification_report(testY.argmax(axis=1),\n",
    "    predictions.argmax(axis=1), target_names=lb.classes_))"
   ]
  },
  {
   "cell_type": "markdown",
   "metadata": {},
   "source": [
    "#### <center> Plot the training loss and accuracy"
   ]
  },
  {
   "cell_type": "code",
   "execution_count": 17,
   "metadata": {},
   "outputs": [
    {
     "name": "stdout",
     "output_type": "stream",
     "text": [
      "[INFO] serializing network and label binarizer...\n"
     ]
    },
    {
     "data": {
      "image/png": "[encoded data removed]",
      "text/plain": [
       "<Figure size 432x288 with 1 Axes>"
      ]
     },
     "metadata": {},
     "output_type": "display_data"
    }
   ],
   "source": [
    "N = np.arange(0, EPOCHS)\n",
    "plt.style.use(\"ggplot\")\n",
    "plt.figure()\n",
    "plt.plot(N, H.history[\"loss\"], label=\"train_loss\")\n",
    "plt.plot(N, H.history[\"val_loss\"], label=\"val_loss\")\n",
    "plt.plot(N, H.history[\"accuracy\"], label=\"train_acc\")\n",
    "plt.plot(N, H.history[\"val_accuracy\"], label=\"val_acc\")\n",
    "plt.title(\"Training Loss and Accuracy (SmallVGGNet)\")\n",
    "plt.xlabel(\"Epoch #\")\n",
    "plt.ylabel(\"Loss/Accuracy\")\n",
    "plt.legend()\n",
    "plt.savefig(r\"trainOutput/scores_CNNVGGTest.png\")\n",
    "\n",
    "# save the model and label binarizer to disk\n",
    "print(\"[INFO] serializing network and label binarizer...\")\n",
    "model.save(r'trainOutput/CNNSmallVGGNet.model', save_format=\"h5\")\n",
    "f = open(r'trainOutput/CNNSmallVGGNet_lb.pickle', \"wb\")\n",
    "f.write(pickle.dumps(lb))\n",
    "f.close()"
   ]
  },
  {
   "cell_type": "code",
   "execution_count": null,
   "metadata": {},
   "outputs": [],
   "source": []
  }
 ],
 "metadata": {
  "kernelspec": {
   "display_name": "Python 3",
   "language": "python",
   "name": "python3"
  },
  "language_info": {
   "codemirror_mode": {
    "name": "ipython",
    "version": 3
   },
   "file_extension": ".py",
   "mimetype": "text/x-python",
   "name": "python",
   "nbconvert_exporter": "python",
   "pygments_lexer": "ipython3",
   "version": "3.8.5"
  }
 },
 "nbformat": 4,
 "nbformat_minor": 4
}
