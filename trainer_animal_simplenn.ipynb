{
 "cells": [
  {
   "cell_type": "markdown",
   "metadata": {},
   "source": [
    "StartUp with  Keras, Deep Learning, and Python"
   ]
  },
  {
   "cell_type": "code",
   "execution_count": 1,
   "metadata": {},
   "outputs": [],
   "source": [
    "#the necessary packages\n",
    "from sklearn.preprocessing import LabelBinarizer\n",
    "from sklearn.model_selection import train_test_split\n",
    "from sklearn.metrics import classification_report\n",
    "\n",
    "from tensorflow.keras.models import Sequential\n",
    "from tensorflow.keras.layers import Dense\n",
    "from tensorflow.keras.optimizers import SGD\n",
    "\n",
    "from imutils import paths\n",
    "import matplotlib.pyplot as plt\n",
    "import numpy as np\n",
    "import random\n",
    "import pickle\n",
    "import cv2\n",
    "import os\n",
    "\n",
    "from tqdm.notebook import tqdm"
   ]
  },
  {
   "cell_type": "code",
   "execution_count": 2,
   "metadata": {},
   "outputs": [],
   "source": [
    "data = []\n",
    "labels = []\n",
    "\n",
    "# grab the image paths and randomly shuffle them\n",
    "imagePaths = sorted(list(paths.list_images(r'animals')))\n",
    "random.seed(42)\n",
    "random.shuffle(imagePaths)"
   ]
  },
  {
   "cell_type": "code",
   "execution_count": 3,
   "metadata": {},
   "outputs": [
    {
     "data": {
      "application/vnd.jupyter.widget-view+json": {
       "model_id": "dffc6257f8bf4858968d366347955eca",
       "version_major": 2,
       "version_minor": 0
      },
      "text/plain": [
       "importing..:   0%|          | 0/6003 [00:00<?, ?it/s]"
      ]
     },
     "metadata": {},
     "output_type": "display_data"
    }
   ],
   "source": [
    "pbar = tqdm(total=len(imagePaths), desc=\"importing..\")\n",
    "for imagePath in imagePaths:\n",
    "    image = cv2.imread(imagePath)\n",
    "    image = cv2.resize(image, (32,32)).flatten()\n",
    "    data.append(image)\n",
    "    \n",
    "    label = imagePath.split(os.path.sep)[-2] #get folder name\n",
    "    labels.append(label)\n",
    "    pbar.update(1)\n",
    "pbar.close()"
   ]
  },
  {
   "cell_type": "code",
   "execution_count": 4,
   "metadata": {},
   "outputs": [
    {
     "name": "stdout",
     "output_type": "stream",
     "text": [
      "label Size  6003\n",
      "data length  6003\n",
      "dogs\n"
     ]
    }
   ],
   "source": [
    "print(\"label Size \", len(labels))\n",
    "print(\"data length \", len(data))\n",
    "print(labels[0])"
   ]
  },
  {
   "cell_type": "code",
   "execution_count": 5,
   "metadata": {},
   "outputs": [],
   "source": [
    "# scale the raw pixel intensities to the range [0, 1]\n",
    "data = np.array(data, dtype=\"float\") / 255.0\n",
    "labels = np.array(labels)"
   ]
  },
  {
   "cell_type": "code",
   "execution_count": 6,
   "metadata": {},
   "outputs": [],
   "source": [
    "(trainX, testX, trainY, testY) = train_test_split(data,\n",
    "\tlabels, test_size=0.20, random_state=42)"
   ]
  },
  {
   "cell_type": "code",
   "execution_count": 7,
   "metadata": {},
   "outputs": [],
   "source": [
    "#convert the labels from integers to vectors (for 2-class, binary classification\n",
    "\n",
    "lb = LabelBinarizer()\n",
    "trainY = lb.fit_transform(trainY)\n",
    "testY = lb.transform(testY)"
   ]
  },
  {
   "cell_type": "code",
   "execution_count": 8,
   "metadata": {},
   "outputs": [],
   "source": [
    "#[1, 0, 0] # corresponds to cats\n",
    "#[0, 1, 0] # corresponds to dogs\n",
    "#[0, 0, 1] # corresponds to panda\n",
    "\n",
    "# define the 3072-1024-512-3 architecture using Keras\n",
    "model = Sequential()\n",
    "#(hiddenLayer, , )\n",
    "model.add(Dense(1024, input_shape=(3072,), activation=\"sigmoid\"))#32x32x3=3072\n",
    "model.add(Dense(512, activation=\"sigmoid\"))\n",
    "model.add(Dense(len(lb.classes_), activation=\"softmax\"))"
   ]
  },
  {
   "cell_type": "code",
   "execution_count": 9,
   "metadata": {},
   "outputs": [],
   "source": [
    "INIT_LR = 0.01\n",
    "EPOCHS = 20 # use >70 to get better result\n",
    "\n",
    "opt = SGD(lr=INIT_LR)\n",
    "model.compile(loss=\"categorical_crossentropy\", optimizer=opt,\n",
    "\tmetrics=[\"accuracy\"])\n"
   ]
  },
  {
   "cell_type": "code",
   "execution_count": 10,
   "metadata": {},
   "outputs": [
    {
     "name": "stdout",
     "output_type": "stream",
     "text": [
      "Epoch 1/20\n",
      "151/151 [==============================] - 4s 21ms/step - loss: 1.1593 - accuracy: 0.3396 - val_loss: 1.1253 - val_accuracy: 0.4904\n",
      "Epoch 2/20\n",
      "151/151 [==============================] - 2s 15ms/step - loss: 1.0735 - accuracy: 0.4279 - val_loss: 1.0950 - val_accuracy: 0.3314\n",
      "Epoch 3/20\n",
      "151/151 [==============================] - 2s 16ms/step - loss: 1.0363 - accuracy: 0.4771 - val_loss: 1.0508 - val_accuracy: 0.4080\n",
      "Epoch 4/20\n",
      "151/151 [==============================] - 2s 16ms/step - loss: 1.0082 - accuracy: 0.4808 - val_loss: 1.0549 - val_accuracy: 0.5046\n",
      "Epoch 5/20\n",
      "151/151 [==============================] - 2s 15ms/step - loss: 0.9776 - accuracy: 0.5189 - val_loss: 1.3860 - val_accuracy: 0.3339\n",
      "Epoch 6/20\n",
      "151/151 [==============================] - 2s 15ms/step - loss: 0.9671 - accuracy: 0.5126 - val_loss: 1.0027 - val_accuracy: 0.5029\n",
      "Epoch 7/20\n",
      "151/151 [==============================] - 2s 15ms/step - loss: 0.9317 - accuracy: 0.5335 - val_loss: 0.9479 - val_accuracy: 0.5196\n",
      "Epoch 8/20\n",
      "151/151 [==============================] - 2s 17ms/step - loss: 0.9153 - accuracy: 0.5416 - val_loss: 1.1249 - val_accuracy: 0.4047\n",
      "Epoch 9/20\n",
      "151/151 [==============================] - 2s 16ms/step - loss: 0.9001 - accuracy: 0.5357 - val_loss: 0.9128 - val_accuracy: 0.5404\n",
      "Epoch 10/20\n",
      "151/151 [==============================] - 2s 15ms/step - loss: 0.8852 - accuracy: 0.5524 - val_loss: 1.1308 - val_accuracy: 0.4638\n",
      "Epoch 11/20\n",
      "151/151 [==============================] - 2s 15ms/step - loss: 0.8955 - accuracy: 0.5369 - val_loss: 0.9160 - val_accuracy: 0.5520\n",
      "Epoch 12/20\n",
      "151/151 [==============================] - 2s 15ms/step - loss: 0.8748 - accuracy: 0.5769 - val_loss: 0.9896 - val_accuracy: 0.5329\n",
      "Epoch 13/20\n",
      "151/151 [==============================] - 2s 15ms/step - loss: 0.8509 - accuracy: 0.5735 - val_loss: 0.9248 - val_accuracy: 0.5137\n",
      "Epoch 14/20\n",
      "151/151 [==============================] - 2s 15ms/step - loss: 0.8576 - accuracy: 0.5604 - val_loss: 1.0036 - val_accuracy: 0.4954\n",
      "Epoch 15/20\n",
      "151/151 [==============================] - 2s 15ms/step - loss: 0.8510 - accuracy: 0.5610 - val_loss: 0.8761 - val_accuracy: 0.5312\n",
      "Epoch 16/20\n",
      "151/151 [==============================] - 2s 15ms/step - loss: 0.8359 - accuracy: 0.5794 - val_loss: 0.9077 - val_accuracy: 0.5437\n",
      "Epoch 17/20\n",
      "151/151 [==============================] - 2s 15ms/step - loss: 0.8373 - accuracy: 0.5853 - val_loss: 1.1808 - val_accuracy: 0.4505\n",
      "Epoch 18/20\n",
      "151/151 [==============================] - 2s 15ms/step - loss: 0.8443 - accuracy: 0.5788 - val_loss: 0.9362 - val_accuracy: 0.5429\n",
      "Epoch 19/20\n",
      "151/151 [==============================] - 2s 15ms/step - loss: 0.8389 - accuracy: 0.5836 - val_loss: 0.9527 - val_accuracy: 0.5329\n",
      "Epoch 20/20\n",
      "151/151 [==============================] - 2s 15ms/step - loss: 0.8372 - accuracy: 0.5793 - val_loss: 0.9090 - val_accuracy: 0.5329\n"
     ]
    }
   ],
   "source": [
    "H = model.fit(x=trainX, y=trainY, validation_data=(testX, testY),\n",
    "\tepochs=EPOCHS, batch_size=32)"
   ]
  },
  {
   "cell_type": "code",
   "execution_count": 11,
   "metadata": {},
   "outputs": [
    {
     "name": "stdout",
     "output_type": "stream",
     "text": [
      "[INFO] evaluating network...\n",
      "              precision    recall  f1-score   support\n",
      "\n",
      "        cats       1.00      0.00      0.01       396\n",
      "        dogs       0.42      0.85      0.57       398\n",
      "      images       0.00      0.00      0.00         2\n",
      "       panda       0.75      0.74      0.75       405\n",
      "\n",
      "    accuracy                           0.53      1201\n",
      "   macro avg       0.54      0.40      0.33      1201\n",
      "weighted avg       0.72      0.53      0.44      1201\n",
      "\n"
     ]
    },
    {
     "name": "stderr",
     "output_type": "stream",
     "text": [
      "I:\\ML_Install\\anaconda\\envs\\ObejctDetection\\lib\\site-packages\\sklearn\\metrics\\_classification.py:1245: UndefinedMetricWarning: Precision and F-score are ill-defined and being set to 0.0 in labels with no predicted samples. Use `zero_division` parameter to control this behavior.\n",
      "  _warn_prf(average, modifier, msg_start, len(result))\n",
      "I:\\ML_Install\\anaconda\\envs\\ObejctDetection\\lib\\site-packages\\sklearn\\metrics\\_classification.py:1245: UndefinedMetricWarning: Precision and F-score are ill-defined and being set to 0.0 in labels with no predicted samples. Use `zero_division` parameter to control this behavior.\n",
      "  _warn_prf(average, modifier, msg_start, len(result))\n",
      "I:\\ML_Install\\anaconda\\envs\\ObejctDetection\\lib\\site-packages\\sklearn\\metrics\\_classification.py:1245: UndefinedMetricWarning: Precision and F-score are ill-defined and being set to 0.0 in labels with no predicted samples. Use `zero_division` parameter to control this behavior.\n",
      "  _warn_prf(average, modifier, msg_start, len(result))\n"
     ]
    }
   ],
   "source": [
    "print(\"[INFO] evaluating network...\")\n",
    "predictions = model.predict(x=testX, batch_size=32)\n",
    "print(classification_report(testY.argmax(axis=1),\n",
    "\tpredictions.argmax(axis=1), target_names=lb.classes_))"
   ]
  },
  {
   "cell_type": "code",
   "execution_count": 18,
   "metadata": {},
   "outputs": [
    {
     "data": {
      "image/png": "[encoded data removed]",
      "text/plain": [
       "<Figure size 432x288 with 1 Axes>"
      ]
     },
     "metadata": {},
     "output_type": "display_data"
    }
   ],
   "source": [
    "\n",
    "# plot the training loss and accuracy\n",
    "N = np.arange(0, EPOCHS)\n",
    "plt.style.use(\"ggplot\")\n",
    "plt.figure()\n",
    "plt.plot(N, H.history[\"loss\"], label=\"train_loss\")\n",
    "plt.plot(N, H.history[\"val_loss\"], label=\"val_loss\")\n",
    "plt.plot(N, H.history[\"accuracy\"], label=\"train_acc\")\n",
    "plt.plot(N, H.history[\"val_accuracy\"], label=\"val_acc\")\n",
    "plt.title(\"Training Loss and Accuracy (Simple NN)\")\n",
    "plt.xlabel(\"Epoch #\")\n",
    "plt.ylabel(\"Loss/Accuracy\")\n",
    "plt.legend()\n",
    "plt.savefig(r\"trainOutput/scores_simpleTest.png\")"
   ]
  },
  {
   "cell_type": "code",
   "execution_count": 19,
   "metadata": {},
   "outputs": [
    {
     "name": "stdout",
     "output_type": "stream",
     "text": [
      "[INFO] serializing network and label binarizer...\n",
      "[INFO] Done 👏\n"
     ]
    }
   ],
   "source": [
    "print(\"[INFO] serializing network and label binarizer...\")\n",
    "model.save(r'trainOutput/smallvggnet.model', save_format=\"h5\")\n",
    "f = open(r'trainOutput/simplevggnet_lb.pickle', \"wb\")\n",
    "f.write(pickle.dumps(lb))\n",
    "f.close()\n",
    "print(\"[INFO] Done 👏\")"
   ]
  },
  {
   "cell_type": "code",
   "execution_count": null,
   "metadata": {},
   "outputs": [],
   "source": []
  }
 ],
 "metadata": {
  "kernelspec": {
   "display_name": "Python 3",
   "language": "python",
   "name": "python3"
  },
  "language_info": {
   "codemirror_mode": {
    "name": "ipython",
    "version": 3
   },
   "file_extension": ".py",
   "mimetype": "text/x-python",
   "name": "python",
   "nbconvert_exporter": "python",
   "pygments_lexer": "ipython3",
   "version": "3.8.5"
  }
 },
 "nbformat": 4,
 "nbformat_minor": 2
}
